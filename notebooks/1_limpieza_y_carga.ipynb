{
 "cells": [
  {
   "cell_type": "code",
   "execution_count": 1,
   "id": "9e24d702",
   "metadata": {},
   "outputs": [],
   "source": [
    "import pandas as pd\n",
    "import os"
   ]
  },
  {
   "cell_type": "code",
   "execution_count": 2,
   "id": "aeb2bbc7-3acb-4521-81f0-13d3e4c4c842",
   "metadata": {},
   "outputs": [],
   "source": [
    "os.chdir('..')"
   ]
  },
  {
   "cell_type": "code",
   "execution_count": 5,
   "id": "2d481d1d",
   "metadata": {},
   "outputs": [
    {
     "name": "stdout",
     "output_type": "stream",
     "text": [
      " El volumen de la unidad C es Acer\n",
      " El nÃºmero de serie del volumen es: F4B2-9572\n",
      "\n",
      " Directorio de C:\\Users\\kaleb\\Documents\\proyectos_platzi\\Crear proyectos de ciencia de datos\n",
      "\n",
      "17/01/2023  05:16 p.Â m.    <DIR>          .\n",
      "16/01/2023  07:53 p.Â m.    <DIR>          ..\n",
      "16/01/2023  08:33 p.Â m.    <DIR>          .ipynb_checkpoints\n",
      "16/01/2023  07:47 p.Â m.           189.110 12_DICIEMBRE_2020.xlsx\n",
      "17/01/2023  12:18 p.Â m.               242 comands conda cmd.txt\n",
      "17/01/2023  05:18 p.Â m.    <DIR>          notebooks\n",
      "17/01/2023  12:10 p.Â m.             2.732 requirements.txt\n",
      "               3 archivos        192.084 bytes\n",
      "               4 dirs  14.100.729.856 bytes libres\n"
     ]
    }
   ],
   "source": [
    "!dir"
   ]
  },
  {
   "cell_type": "code",
   "execution_count": 9,
   "id": "e0da64bd-6368-4212-8583-c47c58606844",
   "metadata": {},
   "outputs": [],
   "source": [
    "df_gastos_varios = pd.read_excel('12_DICIEMBRE_2020.xlsx', sheet_name='GASTOS VARIOS', skiprows=5)\n",
    "df_gastos_varios['SHEET'] = 'GASTOS VARIOS'"
   ]
  },
  {
   "cell_type": "code",
   "execution_count": 10,
   "id": "487d7c19-6ebf-4a2a-8d40-7f12cca65835",
   "metadata": {},
   "outputs": [],
   "source": [
    "df_contratistas = pd.read_excel('12_DICIEMBRE_2020.xlsx', sheet_name='CONTRATISTAS Y FDO FED', skiprows=5)\n",
    "df_contratistas['SHEET'] = 'CONTRATISTAS Y FDO FED'"
   ]
  },
  {
   "cell_type": "code",
   "execution_count": 11,
   "id": "dc2b6d47-c9cc-4b80-8dc6-a778e3d067c0",
   "metadata": {},
   "outputs": [],
   "source": [
    "df_servicios = pd.read_excel('12_DICIEMBRE_2020.xlsx', sheet_name='SERV PPROF', skiprows=5)\n",
    "df_servicios['SHEET'] = 'SERV PPROF'"
   ]
  },
  {
   "cell_type": "code",
   "execution_count": 12,
   "id": "f6ee72b0-f069-4617-b3f3-22f6cfc23d28",
   "metadata": {},
   "outputs": [],
   "source": [
    "df_comunicacion = pd.read_excel('12_DICIEMBRE_2020.xlsx', sheet_name='COMUNICACION', skiprows=5)\n",
    "df_comunicacion['SHEET'] = 'COMUNICACION'"
   ]
  },
  {
   "cell_type": "code",
   "execution_count": 13,
   "id": "4190351a-d3db-4afb-89f2-5be75ac9d09f",
   "metadata": {},
   "outputs": [],
   "source": [
    "df_personales = pd.read_excel('12_DICIEMBRE_2020.xlsx', sheet_name='SERV. PERS.', skiprows=5)\n",
    "df_personales['SHEET'] = 'SERV. PERS.'"
   ]
  },
  {
   "cell_type": "code",
   "execution_count": 14,
   "id": "4bef12c4-0574-4aea-be57-d0f009b01247",
   "metadata": {},
   "outputs": [],
   "source": [
    "df_compras_dic = pd.concat([df_gastos_varios, df_contratistas, df_servicios, df_personales])"
   ]
  },
  {
   "cell_type": "code",
   "execution_count": 16,
   "id": "3b498f85-d649-4281-b849-9259aea0f5db",
   "metadata": {},
   "outputs": [
    {
     "data": {
      "text/plain": [
       "1684"
      ]
     },
     "execution_count": 16,
     "metadata": {},
     "output_type": "execute_result"
    }
   ],
   "source": [
    "len(df_compras_dic)"
   ]
  },
  {
   "cell_type": "code",
   "execution_count": 19,
   "id": "7662e19f-8ed4-427d-a4c3-68fb7440a2b6",
   "metadata": {},
   "outputs": [],
   "source": [
    "df_compras_dic_com = df_compras_dic.dropna(how='any')"
   ]
  },
  {
   "cell_type": "code",
   "execution_count": 20,
   "id": "524cad9c-8d90-4f25-9852-af8769414f0d",
   "metadata": {},
   "outputs": [
    {
     "data": {
      "text/plain": [
       "1469"
      ]
     },
     "execution_count": 20,
     "metadata": {},
     "output_type": "execute_result"
    }
   ],
   "source": [
    "len(df_compras_dic_com)"
   ]
  },
  {
   "cell_type": "code",
   "execution_count": 22,
   "id": "b85c9579-82c7-4998-87e6-52ddd9f2636f",
   "metadata": {},
   "outputs": [
    {
     "data": {
      "text/plain": [
       "NUM BEN                 object\n",
       "BENEFICIARIO            object\n",
       "RFC                     object\n",
       "FACTURA                 object\n",
       "CONTRATO                object\n",
       "CONCEPTO                object\n",
       "TIPO                    object\n",
       "# OP                   float64\n",
       "FECHA           datetime64[ns]\n",
       "IMPORTE                float64\n",
       "SHEET                   object\n",
       "dtype: object"
      ]
     },
     "execution_count": 22,
     "metadata": {},
     "output_type": "execute_result"
    }
   ],
   "source": [
    "df_compras_dic_com.dtypes"
   ]
  },
  {
   "cell_type": "code",
   "execution_count": 23,
   "id": "7c4e7217-67f0-4802-b1dc-5b3f47f9ba00",
   "metadata": {},
   "outputs": [
    {
     "data": {
      "text/plain": [
       "12    1469\n",
       "Name: FECHA, dtype: int64"
      ]
     },
     "execution_count": 23,
     "metadata": {},
     "output_type": "execute_result"
    }
   ],
   "source": [
    "df_compras_dic_com['FECHA'].apply(lambda x: x.month).value_counts()"
   ]
  },
  {
   "cell_type": "code",
   "execution_count": 24,
   "id": "bd900a38-af4c-4343-b07d-49b8181b0304",
   "metadata": {},
   "outputs": [
    {
     "data": {
      "text/html": [
       "<div>\n",
       "<style scoped>\n",
       "    .dataframe tbody tr th:only-of-type {\n",
       "        vertical-align: middle;\n",
       "    }\n",
       "\n",
       "    .dataframe tbody tr th {\n",
       "        vertical-align: top;\n",
       "    }\n",
       "\n",
       "    .dataframe thead th {\n",
       "        text-align: right;\n",
       "    }\n",
       "</style>\n",
       "<table border=\"1\" class=\"dataframe\">\n",
       "  <thead>\n",
       "    <tr style=\"text-align: right;\">\n",
       "      <th></th>\n",
       "      <th>NUM BEN</th>\n",
       "      <th>BENEFICIARIO</th>\n",
       "      <th>RFC</th>\n",
       "      <th>FACTURA</th>\n",
       "      <th>CONTRATO</th>\n",
       "      <th>CONCEPTO</th>\n",
       "      <th>TIPO</th>\n",
       "      <th># OP</th>\n",
       "      <th>FECHA</th>\n",
       "      <th>IMPORTE</th>\n",
       "      <th>SHEET</th>\n",
       "    </tr>\n",
       "  </thead>\n",
       "  <tbody>\n",
       "    <tr>\n",
       "      <th>0</th>\n",
       "      <td>110152</td>\n",
       "      <td>LLANTAS Y SERVICIOS SERNA ANAHUAC,S.A. DE C.V.</td>\n",
       "      <td>LSS841015DV3</td>\n",
       "      <td>LLS AF8458-158008-3972</td>\n",
       "      <td>OT. 20204373</td>\n",
       "      <td>REEMPLAZO E INSTALACION DE AMORTIGUADORES (DEL...</td>\n",
       "      <td>TR</td>\n",
       "      <td>1019110.0</td>\n",
       "      <td>2020-12-11</td>\n",
       "      <td>14911.80</td>\n",
       "      <td>GASTOS VARIOS</td>\n",
       "    </tr>\n",
       "    <tr>\n",
       "      <th>1</th>\n",
       "      <td>110152</td>\n",
       "      <td>LLANTAS Y SERVICIOS SERNA ANAHUAC,S.A. DE C.V.</td>\n",
       "      <td>LSS841015DV3</td>\n",
       "      <td>LLS PF6916-158008-4041</td>\n",
       "      <td>OT. 20204425</td>\n",
       "      <td>REEMPLAZO E INSTALACION DE OCHO BIRLOS Y NUEVE...</td>\n",
       "      <td>TR</td>\n",
       "      <td>1019110.0</td>\n",
       "      <td>2020-12-11</td>\n",
       "      <td>2528.80</td>\n",
       "      <td>GASTOS VARIOS</td>\n",
       "    </tr>\n",
       "    <tr>\n",
       "      <th>2</th>\n",
       "      <td>110152</td>\n",
       "      <td>LLANTAS Y SERVICIOS SERNA ANAHUAC,S.A. DE C.V.</td>\n",
       "      <td>LSS841015DV3</td>\n",
       "      <td>LLS PF6917-158008-3975</td>\n",
       "      <td>OT. 20204376</td>\n",
       "      <td>REEMPLAZO DE DOS RINES  (17). PATRIMONIO 80383...</td>\n",
       "      <td>TR</td>\n",
       "      <td>1019110.0</td>\n",
       "      <td>2020-12-11</td>\n",
       "      <td>8500.02</td>\n",
       "      <td>GASTOS VARIOS</td>\n",
       "    </tr>\n",
       "    <tr>\n",
       "      <th>3</th>\n",
       "      <td>110152</td>\n",
       "      <td>LLANTAS Y SERVICIOS SERNA ANAHUAC,S.A. DE C.V.</td>\n",
       "      <td>LSS841015DV3</td>\n",
       "      <td>LLS PF7004-158008-3971</td>\n",
       "      <td>OT. 20204374</td>\n",
       "      <td>REEMPLAZO DE  DOS RINES  (14). PATRIMONIO 8007...</td>\n",
       "      <td>TR</td>\n",
       "      <td>1019110.0</td>\n",
       "      <td>2020-12-11</td>\n",
       "      <td>2400.01</td>\n",
       "      <td>GASTOS VARIOS</td>\n",
       "    </tr>\n",
       "    <tr>\n",
       "      <th>4</th>\n",
       "      <td>110152</td>\n",
       "      <td>LLANTAS Y SERVICIOS SERNA ANAHUAC,S.A. DE C.V.</td>\n",
       "      <td>LSS841015DV3</td>\n",
       "      <td>LLS PF7137-158008-4554</td>\n",
       "      <td>OT. 20205130</td>\n",
       "      <td>REEMPLAZO E INSTALACION DE RIN 14. PATRIMONIO ...</td>\n",
       "      <td>TR</td>\n",
       "      <td>299001496.0</td>\n",
       "      <td>2020-12-23</td>\n",
       "      <td>1537.00</td>\n",
       "      <td>GASTOS VARIOS</td>\n",
       "    </tr>\n",
       "  </tbody>\n",
       "</table>\n",
       "</div>"
      ],
      "text/plain": [
       "  NUM BEN                                    BENEFICIARIO           RFC  \\\n",
       "0  110152  LLANTAS Y SERVICIOS SERNA ANAHUAC,S.A. DE C.V.  LSS841015DV3   \n",
       "1  110152  LLANTAS Y SERVICIOS SERNA ANAHUAC,S.A. DE C.V.  LSS841015DV3   \n",
       "2  110152  LLANTAS Y SERVICIOS SERNA ANAHUAC,S.A. DE C.V.  LSS841015DV3   \n",
       "3  110152  LLANTAS Y SERVICIOS SERNA ANAHUAC,S.A. DE C.V.  LSS841015DV3   \n",
       "4  110152  LLANTAS Y SERVICIOS SERNA ANAHUAC,S.A. DE C.V.  LSS841015DV3   \n",
       "\n",
       "                  FACTURA      CONTRATO  \\\n",
       "0  LLS AF8458-158008-3972  OT. 20204373   \n",
       "1  LLS PF6916-158008-4041  OT. 20204425   \n",
       "2  LLS PF6917-158008-3975  OT. 20204376   \n",
       "3  LLS PF7004-158008-3971  OT. 20204374   \n",
       "4  LLS PF7137-158008-4554  OT. 20205130   \n",
       "\n",
       "                                            CONCEPTO TIPO         # OP  \\\n",
       "0  REEMPLAZO E INSTALACION DE AMORTIGUADORES (DEL...   TR    1019110.0   \n",
       "1  REEMPLAZO E INSTALACION DE OCHO BIRLOS Y NUEVE...   TR    1019110.0   \n",
       "2  REEMPLAZO DE DOS RINES  (17). PATRIMONIO 80383...   TR    1019110.0   \n",
       "3  REEMPLAZO DE  DOS RINES  (14). PATRIMONIO 8007...   TR    1019110.0   \n",
       "4  REEMPLAZO E INSTALACION DE RIN 14. PATRIMONIO ...   TR  299001496.0   \n",
       "\n",
       "       FECHA   IMPORTE          SHEET  \n",
       "0 2020-12-11  14911.80  GASTOS VARIOS  \n",
       "1 2020-12-11   2528.80  GASTOS VARIOS  \n",
       "2 2020-12-11   8500.02  GASTOS VARIOS  \n",
       "3 2020-12-11   2400.01  GASTOS VARIOS  \n",
       "4 2020-12-23   1537.00  GASTOS VARIOS  "
      ]
     },
     "execution_count": 24,
     "metadata": {},
     "output_type": "execute_result"
    }
   ],
   "source": [
    "df_compras_dic_com.head(5)"
   ]
  },
  {
   "cell_type": "code",
   "execution_count": 25,
   "id": "be653ccd-58c3-4c44-ab64-fc3a7873b31e",
   "metadata": {},
   "outputs": [],
   "source": [
    "df_compras_dic_com.to_csv('notebooks/data/clean_compras.csv', index=None)"
   ]
  },
  {
   "cell_type": "code",
   "execution_count": null,
   "id": "ed2ecde1-f722-4d21-92fb-63171eb027de",
   "metadata": {},
   "outputs": [],
   "source": []
  }
 ],
 "metadata": {
  "kernelspec": {
   "display_name": "Python [conda env:dataEnv] *",
   "language": "python",
   "name": "conda-env-dataEnv-py"
  },
  "language_info": {
   "codemirror_mode": {
    "name": "ipython",
    "version": 3
   },
   "file_extension": ".py",
   "mimetype": "text/x-python",
   "name": "python",
   "nbconvert_exporter": "python",
   "pygments_lexer": "ipython3",
   "version": "3.9.0"
  }
 },
 "nbformat": 4,
 "nbformat_minor": 5
}
