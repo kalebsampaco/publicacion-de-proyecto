{
 "cells": [
  {
   "cell_type": "code",
   "execution_count": 1,
   "id": "639509ff-f845-47a3-8b7c-f0b4597cb5fe",
   "metadata": {},
   "outputs": [],
   "source": [
    "%matplotlib inline\n",
    "import pandas as pd"
   ]
  },
  {
   "cell_type": "code",
   "execution_count": 3,
   "id": "cd240c08-443d-46e2-ba9b-73ab8bbc7b33",
   "metadata": {},
   "outputs": [],
   "source": [
    "compras_df = pd.read_csv('data/clean_compras.csv')"
   ]
  },
  {
   "cell_type": "code",
   "execution_count": 4,
   "id": "af07fa19-9f09-4047-b946-e9c5a168433f",
   "metadata": {},
   "outputs": [
    {
     "data": {
      "text/plain": [
       "NUM BEN           int64\n",
       "BENEFICIARIO     object\n",
       "RFC              object\n",
       "FACTURA          object\n",
       "CONTRATO         object\n",
       "CONCEPTO         object\n",
       "TIPO             object\n",
       "# OP            float64\n",
       "FECHA            object\n",
       "IMPORTE         float64\n",
       "SHEET            object\n",
       "dtype: object"
      ]
     },
     "execution_count": 4,
     "metadata": {},
     "output_type": "execute_result"
    }
   ],
   "source": [
    "compras_df.dtypes"
   ]
  },
  {
   "cell_type": "markdown",
   "id": "e5a0ba1c-01c4-43c4-b88d-b294d7015265",
   "metadata": {},
   "source": [
    "## Empezamos con expansión de datos que tenemos, fecha por ejemplo"
   ]
  },
  {
   "cell_type": "code",
   "execution_count": 6,
   "id": "d7d31d5b-0920-4c76-8527-e3b9c54420d8",
   "metadata": {},
   "outputs": [],
   "source": [
    "compras_df['FECHA'] = pd.to_datetime(compras_df['FECHA'])"
   ]
  },
  {
   "cell_type": "code",
   "execution_count": 8,
   "id": "f6f9589d-a786-45c8-b9c5-386ad0e3948a",
   "metadata": {},
   "outputs": [],
   "source": [
    "compras_df['DIA'] = compras_df['FECHA'].apply(lambda x: x.day)"
   ]
  },
  {
   "cell_type": "code",
   "execution_count": 10,
   "id": "1bbb9508-013a-405e-ad2b-36f03bed1aa0",
   "metadata": {},
   "outputs": [],
   "source": [
    "compras_df['MES'] = compras_df['FECHA'].apply(lambda x: x.month)"
   ]
  },
  {
   "cell_type": "code",
   "execution_count": 11,
   "id": "e8ae6eef-9175-4ca4-aadb-f167d7ebde0c",
   "metadata": {},
   "outputs": [],
   "source": [
    "compras_df['ANIO'] = compras_df['FECHA'].apply(lambda x: x.year)"
   ]
  },
  {
   "cell_type": "code",
   "execution_count": 13,
   "id": "31362df2-9511-4ff0-a0d7-6324519f5187",
   "metadata": {},
   "outputs": [],
   "source": [
    "compras_df['DIA'] = compras_df['FECHA'].dt.day\n",
    "compras_df['MES'] = compras_df['FECHA'].dt.month\n",
    "compras_df['YEAR'] = compras_df['FECHA'].dt.year"
   ]
  },
  {
   "cell_type": "markdown",
   "id": "a1e3de4b-6777-4a77-ac67-89899eade2da",
   "metadata": {},
   "source": [
    "## Proyectar unas variable contra otras"
   ]
  },
  {
   "cell_type": "code",
   "execution_count": 14,
   "id": "826d20c0-c43c-4499-9dbd-e2ecc732e89c",
   "metadata": {},
   "outputs": [],
   "source": [
    "beneficiario_sales = compras_df['BENEFICIARIO'].value_counts().to_dict()"
   ]
  },
  {
   "cell_type": "code",
   "execution_count": 16,
   "id": "b152bd2e-9cfd-4724-8c84-d0ddc11ec8b8",
   "metadata": {},
   "outputs": [
    {
     "data": {
      "text/plain": [
       "['CAMARA MEXICANA DE LA INDUSTRIA DE LA CONSTRUCCION',\n",
       " 'AUTOKAM REGIOMONTANA,S.A.DE C.V.',\n",
       " 'CAR ONE MONTERREY, S.A. DE C.V.',\n",
       " 'PEREZ RIOS RAMIRO',\n",
       " 'S.I.M.E.P.R.O.D.E.']"
      ]
     },
     "execution_count": 16,
     "metadata": {},
     "output_type": "execute_result"
    }
   ],
   "source": [
    "list(beneficiario_sales.keys())[0:5]"
   ]
  },
  {
   "cell_type": "code",
   "execution_count": 17,
   "id": "e22875a4-f177-4796-8f34-563e1d926186",
   "metadata": {},
   "outputs": [],
   "source": [
    "compras_df['BENEFICIARIO_SALE'] = compras_df['BENEFICIARIO'].apply(lambda x: beneficiario_sales[x]) "
   ]
  },
  {
   "cell_type": "code",
   "execution_count": 18,
   "id": "07e41724-7c6b-44cb-b6ed-7b2842404936",
   "metadata": {},
   "outputs": [],
   "source": [
    "sheet_mean_compras = compras_df.groupby('SHEET')['IMPORTE'].mean()"
   ]
  },
  {
   "cell_type": "code",
   "execution_count": 19,
   "id": "033efcf4-1f99-4976-9d07-eb99f86ea8de",
   "metadata": {},
   "outputs": [
    {
     "data": {
      "text/plain": [
       "SHEET\n",
       "CONTRATISTAS Y FDO FED    474566.765787\n",
       "GASTOS VARIOS             881659.731797\n",
       "SERV PPROF                229592.166667\n",
       "SERV. PERS.                59623.405217\n",
       "Name: IMPORTE, dtype: float64"
      ]
     },
     "execution_count": 19,
     "metadata": {},
     "output_type": "execute_result"
    }
   ],
   "source": [
    "sheet_mean_compras"
   ]
  },
  {
   "cell_type": "code",
   "execution_count": 20,
   "id": "5c65da19-fd18-4e49-9a7f-54efa736d91b",
   "metadata": {},
   "outputs": [
    {
     "data": {
      "text/plain": [
       "{'CONTRATISTAS Y FDO FED': 474566.76578729285,\n",
       " 'GASTOS VARIOS': 881659.7317971016,\n",
       " 'SERV PPROF': 229592.16666666666,\n",
       " 'SERV. PERS.': 59623.40521739131}"
      ]
     },
     "execution_count": 20,
     "metadata": {},
     "output_type": "execute_result"
    }
   ],
   "source": [
    "sheet_mean_compras.to_dict()"
   ]
  },
  {
   "cell_type": "code",
   "execution_count": 21,
   "id": "3960c40b-0f31-4688-aba0-0a0f3ccb3159",
   "metadata": {},
   "outputs": [],
   "source": [
    "compras_df['IMPORTE_GASTOS_PROMEDIO'] = compras_df['SHEET'].apply(lambda x: sheet_mean_compras[x])"
   ]
  },
  {
   "cell_type": "markdown",
   "id": "b7489f92-d06a-4558-bdc8-8493e2943199",
   "metadata": {},
   "source": [
    "## Traernos información externa, enriquecer los datos usando una tool de páginas de linkendin"
   ]
  },
  {
   "cell_type": "code",
   "execution_count": 22,
   "id": "1beb0418-e284-4f6c-a37c-ed6903da8659",
   "metadata": {},
   "outputs": [],
   "source": [
    "pd.DataFrame(compras_df['BENEFICIARIO'].unique()).to_csv('data/unique_beneficiarios.csv', index=None)"
   ]
  },
  {
   "cell_type": "code",
   "execution_count": 23,
   "id": "3bd65bf3-c3ba-4788-b93a-4ede5e5495cc",
   "metadata": {},
   "outputs": [],
   "source": [
    "# cargar informacion\n",
    "linkedin_mty = pd.read_csv('data/linkedin_mty.csv')"
   ]
  },
  {
   "cell_type": "code",
   "execution_count": 24,
   "id": "6237cbf3-2765-4306-a0f9-7585802d2eb3",
   "metadata": {},
   "outputs": [],
   "source": [
    "has_site = {}"
   ]
  },
  {
   "cell_type": "code",
   "execution_count": 25,
   "id": "7c003360-1b49-4cd4-9782-c3a50a62ada4",
   "metadata": {},
   "outputs": [],
   "source": [
    "for i, ele in linkedin_mty.fillna(True).iterrows():\n",
    "    has_site[ele['query']] = True if ele['error'] == True else False"
   ]
  },
  {
   "cell_type": "code",
   "execution_count": 26,
   "id": "b550dab9-2c0b-45af-bc45-961c9a5c04f0",
   "metadata": {},
   "outputs": [],
   "source": [
    "compras_df['HAS_LINKEDIN_SITE'] = compras_df['BENEFICIARIO'].apply(lambda x: has_site[x.replace('  ', ' ')])"
   ]
  },
  {
   "cell_type": "code",
   "execution_count": 27,
   "id": "f4cef3c9-b163-420c-9985-7fe18d9f173a",
   "metadata": {},
   "outputs": [
    {
     "data": {
      "text/plain": [
       "0       True\n",
       "1       True\n",
       "2       True\n",
       "3       True\n",
       "4       True\n",
       "        ... \n",
       "1464    True\n",
       "1465    True\n",
       "1466    True\n",
       "1467    True\n",
       "1468    True\n",
       "Name: HAS_LINKEDIN_SITE, Length: 1469, dtype: bool"
      ]
     },
     "execution_count": 27,
     "metadata": {},
     "output_type": "execute_result"
    }
   ],
   "source": [
    "compras_df['HAS_LINKEDIN_SITE']"
   ]
  },
  {
   "cell_type": "code",
   "execution_count": 28,
   "id": "6d32ceca-ffdf-43bc-ace6-54ed68f107e9",
   "metadata": {},
   "outputs": [
    {
     "data": {
      "text/plain": [
       "True     1327\n",
       "False     142\n",
       "Name: HAS_LINKEDIN_SITE, dtype: int64"
      ]
     },
     "execution_count": 28,
     "metadata": {},
     "output_type": "execute_result"
    }
   ],
   "source": [
    "compras_df['HAS_LINKEDIN_SITE'].value_counts()"
   ]
  },
  {
   "cell_type": "code",
   "execution_count": 29,
   "id": "e2f50245-c9b5-4bbb-8034-41a79cc12a39",
   "metadata": {},
   "outputs": [],
   "source": [
    "compras_df.to_csv('data/compras_df_enriched.csv', index=None)"
   ]
  },
  {
   "cell_type": "code",
   "execution_count": null,
   "id": "daad0c3c-3337-4a9d-bd7a-022ddca3c86e",
   "metadata": {},
   "outputs": [],
   "source": []
  }
 ],
 "metadata": {
  "kernelspec": {
   "display_name": "Python [conda env:dataEnv] *",
   "language": "python",
   "name": "conda-env-dataEnv-py"
  },
  "language_info": {
   "codemirror_mode": {
    "name": "ipython",
    "version": 3
   },
   "file_extension": ".py",
   "mimetype": "text/x-python",
   "name": "python",
   "nbconvert_exporter": "python",
   "pygments_lexer": "ipython3",
   "version": "3.9.0"
  }
 },
 "nbformat": 4,
 "nbformat_minor": 5
}
