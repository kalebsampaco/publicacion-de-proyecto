{
 "cells": [
  {
   "cell_type": "code",
   "execution_count": 1,
   "id": "9e24d702",
   "metadata": {},
   "outputs": [],
   "source": [
    "import pandas as pd\n",
    "import os"
   ]
  },
  {
   "cell_type": "code",
   "execution_count": 2,
   "id": "aeb2bbc7-3acb-4521-81f0-13d3e4c4c842",
   "metadata": {},
   "outputs": [],
   "source": [
    "os.chdir('..')"
   ]
  },
  {
   "cell_type": "code",
   "execution_count": 5,
   "id": "2d481d1d",
   "metadata": {},
   "outputs": [
    {
     "name": "stdout",
     "output_type": "stream",
     "text": [
      " El volumen de la unidad C es Acer\n",
      " El nÃºmero de serie del volumen es: F4B2-9572\n",
      "\n",
      " Directorio de C:\\Users\\kaleb\\Documents\\proyectos_platzi\\Crear proyectos de ciencia de datos\n",
      "\n",
      "17/01/2023  05:16 p.Â m.    <DIR>          .\n",
      "16/01/2023  07:53 p.Â m.    <DIR>          ..\n",
      "16/01/2023  08:33 p.Â m.    <DIR>          .ipynb_checkpoints\n",
      "16/01/2023  07:47 p.Â m.           189.110 12_DICIEMBRE_2020.xlsx\n",
      "17/01/2023  12:18 p.Â m.               242 comands conda cmd.txt\n",
      "17/01/2023  05:18 p.Â m.    <DIR>          notebooks\n",
      "17/01/2023  12:10 p.Â m.             2.732 requirements.txt\n",
      "               3 archivos        192.084 bytes\n",
      "               4 dirs  14.100.729.856 bytes libres\n"
     ]
    }
   ],
   "source": [
    "!dir"
   ]
  },
  {
   "cell_type": "code",
   "execution_count": 9,
   "id": "e0da64bd-6368-4212-8583-c47c58606844",
   "metadata": {},
   "outputs": [],
   "source": [
    "df_gastos_varios = pd.read_excel('12_DICIEMBRE_2020.xlsx', sheet_name='GASTOS VARIOS', skiprows=5)\n",
    "df_gastos_varios['SHEET'] = 'GASTOS VARIOS'"
   ]
  },
  {
   "cell_type": "code",
   "execution_count": 10,
   "id": "487d7c19-6ebf-4a2a-8d40-7f12cca65835",
   "metadata": {},
   "outputs": [],
   "source": [
    "df_contratistas = pd.read_excel('12_DICIEMBRE_2020.xlsx', sheet_name='CONTRATISTAS Y FDO FED', skiprows=5)\n",
    "df_contratistas['SHEET'] = 'CONTRATISTAS Y FDO FED'"
   ]
  },
  {
   "cell_type": "code",
   "execution_count": 11,
   "id": "dc2b6d47-c9cc-4b80-8dc6-a778e3d067c0",
   "metadata": {},
   "outputs": [],
   "source": [
    "df_servicios = pd.read_excel('12_DICIEMBRE_2020.xlsx', sheet_name='SERV PPROF', skiprows=5)\n",
    "df_servicios['SHEET'] = 'SERV PPROF'"
   ]
  },
  {
   "cell_type": "code",
   "execution_count": 12,
   "id": "f6ee72b0-f069-4617-b3f3-22f6cfc23d28",
   "metadata": {},
   "outputs": [],
   "source": [
    "df_comunicacion = pd.read_excel('12_DICIEMBRE_2020.xlsx', sheet_name='COMUNICACION', skiprows=5)\n",
    "df_comunicacion['SHEET'] = 'COMUNICACION'"
   ]
  },
  {
   "cell_type": "code",
   "execution_count": 13,
   "id": "4190351a-d3db-4afb-89f2-5be75ac9d09f",
   "metadata": {},
   "outputs": [],
   "source": [
    "df_personales = pd.read_excel('12_DICIEMBRE_2020.xlsx', sheet_name='SERV. PERS.', skiprows=5)\n",
    "df_personales['SHEET'] = 'SERV. PERS.'"
   ]
  },
  {
   "cell_type": "code",
   "execution_count": null,
   "id": "4bef12c4-0574-4aea-be57-d0f009b01247",
   "metadata": {},
   "outputs": [],
   "source": []
  }
 ],
 "metadata": {
  "kernelspec": {
   "display_name": "Python [conda env:dataEnv] *",
   "language": "python",
   "name": "conda-env-dataEnv-py"
  },
  "language_info": {
   "codemirror_mode": {
    "name": "ipython",
    "version": 3
   },
   "file_extension": ".py",
   "mimetype": "text/x-python",
   "name": "python",
   "nbconvert_exporter": "python",
   "pygments_lexer": "ipython3",
   "version": "3.9.0"
  }
 },
 "nbformat": 4,
 "nbformat_minor": 5
}
